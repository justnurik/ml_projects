{
 "cells": [
  {
   "cell_type": "markdown",
   "metadata": {
    "id": "_YoIth0VwcIP"
   },
   "source": [
    "# Курс \"Практикум по математической статистике\"\n",
    "# 3 курс ФПМИ МФТИ, осень 2024\n",
    "## Домашнее задание 3. Робастная статистика. Доверительное оценивание.\n",
    "### Дедлайн --- 10 ноября 23:59\n",
    "\n",
    "Мы предлагаем выполнять задания прямо в этом ноутбуке. Пожалуйста, не стирайте условия задач.\n",
    "\n",
    "\n",
    "В этом и последующих заданиях вам потребуется выполнять генерацию случайных величин из некоторого распределения. Для этого вам понадобится библиотека `scipy.stats`. Мы настоятельно рекомендуем для генерации выборок использовать именно эту библиотеку.\n",
    "\n",
    "Настоятельно рекомендуемая форма оформления домашних заданий — это Jupyter Notebook c:\n",
    "\n",
    "* условием задачи,\n",
    "* решением (если требуется некоторый теоретический вывод),\n",
    "* описанием плана решения, который потом реализуется в коде,\n",
    "* собственно кодом,\n",
    "* построенными графиками (если это требуется) и **выводом**, который как правило должен заключаться в объяснении практических результатов с использованием теоретических фактов. ***Вывод требуется даже в том случае, если в условии об этом явно не сказано!***\n",
    "* некоторыми другими вещами, если об этом будет указано в задании.\n",
    "\n",
    "Оценка за каждую задачу складывается из правильного выполнения всех этих пунктов. Закрывая на них глаза, вы сознательно понижаете свою оценку.\n",
    "\n",
    "Каждая задача оценивается **в 10 баллов**.\n",
    "\n",
    "## Пожалуйста, не переименовывайте этот ноутбук"
   ]
  },
  {
   "cell_type": "code",
   "execution_count": null,
   "metadata": {
    "colab": {
     "base_uri": "https://localhost:8080/"
    },
    "id": "RcJukql-soI3",
    "outputId": "0ebebdd8-c7b1-4438-fac6-239a5da1ea95"
   },
   "outputs": [
    {
     "name": "stdout",
     "output_type": "stream",
     "text": [
      "Populating the interactive namespace from numpy and matplotlib\n"
     ]
    }
   ],
   "source": [
    "import numpy as np\n",
    "from scipy import stats as sps\n",
    "import seaborn as sns\n",
    "from matplotlib import pyplot as plt\n",
    "sns.set(style=\"darkgrid\", font_scale=1.4)\n",
    "\n",
    "%pylab inline"
   ]
  },
  {
   "cell_type": "markdown",
   "metadata": {
    "id": "kZET4C25aOE-"
   },
   "source": [
    "*Условие задания*: Великая ордалия продолжает свой путь на север, однако адепты доселе неизвестной магии - Текне используют своё искусство, чтобы вмешаться в отлаженную работу имперских статистических оценок параметров, меняя им часть данных. Теперь необходимо давать такие оценки, которые выдержат фокусы волшебников консульта, чтобы Ордалия смогла дойти до Голготтерата!\n",
    "\n",
    "Судьба многомилионной армии теперь в Ваших руках!"
   ]
  },
  {
   "cell_type": "markdown",
   "metadata": {
    "id": "XgHJEtD3ISLE"
   },
   "source": [
    "## Задача 1\n",
    "\n",
    "Эта задача посвящена *робастному* оцениванию. Это такой раздел статистики, который изучает, как сильно оценки зависят от выбросов и других *неверных* данных и как построить оценки, которые выдерживают шумы.\n",
    "\n",
    "0) Сгенерируйте выборку из трех распределений: нормального, Лапласа и Коши размера `N=500`.\n",
    "\n",
    "Далее для всех графиков в этом задании используйте обозначенные цвета для каждого из распределений (даже если графики будут на разных осях). То есть если график касается нормального распределения, то рисуйте его синим цветом."
   ]
  },
  {
   "cell_type": "code",
   "execution_count": null,
   "metadata": {
    "id": "eO08M7w1s7pq"
   },
   "outputs": [],
   "source": [
    "color_for_normal, color_for_laplace, color_for_cauchy = sns.color_palette(\"colorblind\")[:3]\n",
    "\n",
    "N = 500\n",
    "\n",
    "# YOUR CODE HERE"
   ]
  },
  {
   "cell_type": "markdown",
   "metadata": {
    "id": "BbHbViTDJc_j"
   },
   "source": [
    "1) Постройте график плотности распределения для всех трех распределений на одних осях."
   ]
  },
  {
   "cell_type": "code",
   "execution_count": null,
   "metadata": {
    "id": "UxwHRg4Ote0B"
   },
   "outputs": [],
   "source": []
  },
  {
   "cell_type": "markdown",
   "metadata": {
    "id": "SEatRXILKMxu"
   },
   "source": [
    "2) Мы будем оценивать параметр сдвига каждого из распределений. Сделайте предположение о том, для каких распределений параметр сдвига будет оценён точнее при помощи среднего и медианы. Докажите Ваши предположения теоретически и экспериментально. Моделировать оценки в этот раз не нужно, достаточно по одной выборке произвести оценивание и проверить его точность.\n",
    "\n",
    "**Ответ:**"
   ]
  },
  {
   "cell_type": "code",
   "execution_count": null,
   "metadata": {
    "id": "SEiYnqLnbgGC"
   },
   "outputs": [],
   "source": [
    "# Эксперименты с оценкой средним и медианы\n"
   ]
  },
  {
   "cell_type": "markdown",
   "metadata": {
    "id": "7g57xzatKcPj"
   },
   "source": [
    "3) Часто, в реальной жизни, мы сталкиваемся с данными в которых есть выбросы возникшие, например, из-за опечаток. Пусть в выборке содержится 99 точек на интервале $[0;1]$ и один элемент равный 300. Тогда среднее значение нашей выборки будет не меньше трех. Ясно, что так дело не пойдет, что же делать?\n",
    "\n",
    "Можно использовать медиану или **усеченное среднее**.\n",
    "\n",
    "**Усеченное среднее порядка $\\alpha$** это среднее составленное из выборки от которой отрезаны $\\alpha$ и $1 - \\alpha$ квантили. Как ее получить?\n",
    "\n",
    "\n",
    "1.   Отсортировать выборку\n",
    "2.   Отрезать первые и последние ($\\alpha \\cdot \\text{размер выборки}$) элементов выборки\n",
    "3.   Посчитать среднее полученной выборки\n",
    "\n",
    "Напишите функцию для подсчета этой статистики. Реализуйте усечённое среднее для одной выборки, но разных $\\alpha$. На одних осях постройте распределение оценки для разных $\\alpha$. Как оно изменяется?"
   ]
  },
  {
   "cell_type": "code",
   "execution_count": null,
   "metadata": {
    "id": "bzMG7mBft9pa"
   },
   "outputs": [],
   "source": [
    "def truncated_mean(sample, alpha=0.3):\n",
    "    # YOUR CODE HERE\n",
    "    return truncated_mean"
   ]
  },
  {
   "cell_type": "markdown",
   "metadata": {
    "id": "ER3_dlPIcBYB"
   },
   "source": [
    "4) Постройте график квадрата разности каждой из оценок и истинного значения параметра в зависимости от роста размера выборки для разных $\\alpha$. Сделайте выводы, какие оценки точнее."
   ]
  },
  {
   "cell_type": "code",
   "execution_count": null,
   "metadata": {
    "id": "qM0GsuGmcSys"
   },
   "outputs": [],
   "source": []
  },
  {
   "cell_type": "markdown",
   "metadata": {
    "id": "Ke2dEdjbV_zo"
   },
   "source": [
    "**Теорема**\n",
    "Пусть распределение симметрично относительно нуля и имеет одну моду в нуле, тогда асимптотическая дисперсия усеченного среднего порядка $\\alpha$ может быть выражена по формуле:\n",
    "$$\n",
    "\\sigma^2(\\alpha) = 2\\cdot\\frac{\\int_0^{u_{1 - \\alpha}} x^2 dF(x) + \\alpha\\cdot(u_{1 - \\alpha})^2}{(1 - 2\\alpha)^2},\n",
    "$$\n",
    "\n",
    "где $u_\\alpha$ – квантиль порядка $\\alpha$.\n",
    "\n",
    "Вычислите дисперсию и постройте график дисперсии в зависимости от $\\alpha$.\n",
    "\n",
    "*Подсказка.* Для численного интегрирования используйте функцию `quad` из модуля `scipy.integrate`"
   ]
  },
  {
   "cell_type": "code",
   "execution_count": null,
   "metadata": {
    "id": "beGNmTuQ7lZL"
   },
   "outputs": [],
   "source": []
  },
  {
   "cell_type": "markdown",
   "metadata": {
    "id": "NeLdGhFlceIC"
   },
   "source": [
    "4.5) Дополнительный пункт на 5 баллов.\n",
    "\n",
    "Докажите предложенную теорему."
   ]
  },
  {
   "cell_type": "markdown",
   "metadata": {
    "id": "Mh97uSSpaowj"
   },
   "source": [
    "5) Постройте графики для асимптотической дисперсии в зависимости от $\\alpha$ для всех трех распределений на назных осях (используйте `plt.subplots(1, 3, figsize=(21,7))`). **Не забудьте про цвета**. Для загаловка графика используйте `ax[i].set_title`, для заголовка всей картинки используйте `fig.suptitle`. Сравните результаты с теоретической"
   ]
  },
  {
   "cell_type": "code",
   "execution_count": null,
   "metadata": {
    "id": "CjGb3S3yakLB"
   },
   "outputs": [],
   "source": []
  },
  {
   "cell_type": "markdown",
   "metadata": {
    "id": "OBT0ivF7cAl7"
   },
   "source": [
    "6) Breakdown point в статистике неформально называется такое наибольшее число $x$ от 0 до 1, что если изменить больше $(100\\cdot x)\\%$ наблюдений выборки на выбросы, то оценка \"пойдёт в разнос\" и её значение может оказаться сколь угодно большим по модулю, как если бы вся выборка состояла из выбросов.\n",
    "\n",
    "Предположите, как Breakdown point зависит от параметра $\\alpha$."
   ]
  },
  {
   "cell_type": "markdown",
   "metadata": {
    "id": "PLpWs9XJdNuq"
   },
   "source": [
    "Ответ:"
   ]
  },
  {
   "cell_type": "markdown",
   "metadata": {
    "id": "ABDP7kIAdNbd"
   },
   "source": [
    "И проверьте своё предположение моделированием. Будем считать, что вместо произвольных $(100\\cdot x)\\%$ выборки будет записано какое-то заранее подобранное достаточно большое число с положительным или отрицательным знаком."
   ]
  },
  {
   "cell_type": "code",
   "execution_count": null,
   "metadata": {
    "id": "rS42ntn6devj"
   },
   "outputs": [],
   "source": []
  },
  {
   "cell_type": "markdown",
   "metadata": {
    "id": "_mSTQYgsc1QI"
   },
   "source": [
    "7) Для каждого распределения на отдельном графике по всем префиксам постройте значение трех оценок: среднего, медианы и усечённого среднего порядка $0.35$. Для усечённого среднего проведите линию пунктиром (`fmt=\"--\"`), для медианы точечками (`fmt=\":\"`). **Не забудьте про цвета**. То есть цвета на одном графике одинаковые, разные оценки отличает только формат линии.\n",
    "\n",
    "**Ниже посчитайте все оценки необходимые для всех распределений**"
   ]
  },
  {
   "cell_type": "code",
   "execution_count": null,
   "metadata": {
    "id": "slghQ1mQ7RpO"
   },
   "outputs": [],
   "source": []
  },
  {
   "cell_type": "markdown",
   "metadata": {
    "id": "hChc2D81ecue"
   },
   "source": [
    "**Нормальное распределение**"
   ]
  },
  {
   "cell_type": "code",
   "execution_count": null,
   "metadata": {
    "id": "pW26pxXWdlNO"
   },
   "outputs": [],
   "source": []
  },
  {
   "cell_type": "markdown",
   "metadata": {
    "id": "J1Id0LhYe5Xe"
   },
   "source": [
    "**Распределение Лапласа**"
   ]
  },
  {
   "cell_type": "code",
   "execution_count": null,
   "metadata": {
    "id": "EbiCjxOQ5es9"
   },
   "outputs": [],
   "source": []
  },
  {
   "cell_type": "markdown",
   "metadata": {
    "id": "VcIWcplpfH4D"
   },
   "source": [
    "**Распределение Коши**"
   ]
  },
  {
   "cell_type": "code",
   "execution_count": null,
   "metadata": {
    "id": "MRwPHUzZ5gna"
   },
   "outputs": [],
   "source": []
  },
  {
   "cell_type": "markdown",
   "metadata": {
    "id": "7a40kt4hfNLT"
   },
   "source": [
    "Проанализируйте полученные графики. Проанализируйте графики дисперсий оценок. Сделайте выводы."
   ]
  },
  {
   "cell_type": "markdown",
   "metadata": {
    "id": "cI5bwRo8dxwP"
   },
   "source": [
    "**Опциональная часть для самых смелых (20 баллов)**"
   ]
  },
  {
   "cell_type": "markdown",
   "metadata": {
    "id": "Ut_ghCvLecpb"
   },
   "source": [
    "Мы знаем, что существует Оценка Максимального Правдоподобия:\n",
    "\n",
    "$\\hat{\\theta} = argmin_{\\theta}(-log(f_{\\theta}(x)))$, $f_{\\theta}(x)$ --- правдоподобие выборки. В таком же виде можно выписать и оценки средним, медианой и усечённым средним:\n",
    "\n",
    "$\\hat{\\theta} = argmin_{\\theta}(\\sum_{i=1}^n\\rho(x_i - \\theta))$.\n",
    "\n",
    "В общем случае, такая оценка называется обобщённой оценкой максимального правдоподобия или $M$-оценкой. Функция $\\rho$ называется функцией влияния.\n",
    "\n",
    "1) Как должна выглядеть функция $\\rho$, чтобы результатом было усечённое среднее? Указание: \"усекать\" можно не только по квантилю, но и по числу"
   ]
  },
  {
   "cell_type": "markdown",
   "metadata": {
    "id": "7FQutUzsfTH1"
   },
   "source": [
    "Ответ:"
   ]
  },
  {
   "cell_type": "markdown",
   "metadata": {
    "id": "SSfKC81nfSOm"
   },
   "source": [
    "2) Эквивалентно задачу оптимизации можно писать в виде системы уравнений $(\\sum_{i=1}^n\\psi(x_i - \\theta)) = 0$. Сравните два определения и скажите, какое из них шире (определяет больше возможных оценок) и как они связаны."
   ]
  },
  {
   "cell_type": "markdown",
   "metadata": {
    "id": "Pe4PGry-ga8i"
   },
   "source": [
    "Ответ:"
   ]
  },
  {
   "cell_type": "markdown",
   "metadata": {
    "id": "cylLxd9GgcQA"
   },
   "source": [
    "3) Самое интересное. Для трёх распределений из первой части постройте M-оценки для разных функций $\\rho$ или $\\psi$. Ищите максимум градиентным спуском, а ноль функции --- методом Ньютона.\n",
    "\n",
    "Примеры функций влияния можно взять вот тут: https://en.wikipedia.org/wiki/Robust_statistics#M-estimators\n",
    "\n",
    "Ещё можно попросить в чате Том Древних Заклинаний (книжку по робастной статистике) и прочитать там главу 3, где есть примеры M- и L- оценок (что такое L-оценка при желании можете узнать там же сами)"
   ]
  },
  {
   "cell_type": "markdown",
   "metadata": {
    "id": "K7oG-he7OSTT"
   },
   "source": [
    "3.5) Выразите усечённое среднее как L-оценку"
   ]
  },
  {
   "cell_type": "markdown",
   "metadata": {
    "id": "iGCE4tlROZaA"
   },
   "source": [
    "Ответ:"
   ]
  },
  {
   "cell_type": "code",
   "execution_count": null,
   "metadata": {
    "id": "Lemv9ujviAYd"
   },
   "outputs": [],
   "source": []
  },
  {
   "cell_type": "markdown",
   "metadata": {
    "id": "HiVbWOBYiAvD"
   },
   "source": [
    "4) Сравните результаты, полученные для трёх распределений и разных функций влияния."
   ]
  },
  {
   "cell_type": "code",
   "execution_count": null,
   "metadata": {
    "id": "HcI2iTB3i2mo"
   },
   "outputs": [],
   "source": []
  },
  {
   "cell_type": "markdown",
   "metadata": {
    "id": "UiYI5MMZic_S"
   },
   "source": [
    "5) Оцените Breakdown point предложенных функций. Сделайте вывод о том, как взаимосвязаны точность оценки и Breakdown point."
   ]
  },
  {
   "cell_type": "markdown",
   "metadata": {
    "id": "dghn7d3TjBb_"
   },
   "source": [
    "Сделайте единый вывод о робастном оценивании:"
   ]
  },
  {
   "cell_type": "markdown",
   "metadata": {
    "id": "BcHY_qpZnZh2"
   },
   "source": [
    "*Дисклеймер: * 20 баллов будет ставиться только в случае, если Вы попробуете хотя бы 5 существенно различающихся функций влияния и построите хотя бы одну L-оценку (без которой будет 15), а так же укажете, в каких оценках лучше точность и лучше Breakdown Point. В идеале нужно решить трейдофф между точностью и робастностью."
   ]
  },
  {
   "cell_type": "markdown",
   "metadata": {
    "id": "f6g5G4VxKajS"
   },
   "source": [
    "## Задача 2\n",
    "\n",
    "## Wine dataset\n",
    "\n",
    "Да, аспект-император взял с собой лучшее вино Трёх Морей и пьёт его, пока идёт битва! В этой задаче Вам предлагается поработать с реальными данными и провести оценивания состава вина.\n",
    "\n",
    "Давайте загрузим и проанализируем датасет, состоящий из различных показателей для красного вина и оценок сомелье."
   ]
  },
  {
   "cell_type": "code",
   "execution_count": null,
   "metadata": {
    "colab": {
     "base_uri": "https://localhost:8080/"
    },
    "id": "CmbrldSh_pY3",
    "outputId": "10e077c9-3fd0-4f5e-fa0b-07346b5c49b7"
   },
   "outputs": [
    {
     "name": "stdout",
     "output_type": "stream",
     "text": [
      "Downloading...\n",
      "From: https://drive.google.com/uc?id=1LsNeROfnVQb2ksdtwZvxrZREdy_Z-jta\n",
      "To: /content/winequality-red.csv\n",
      "\r  0% 0.00/101k [00:00<?, ?B/s]\r100% 101k/101k [00:00<00:00, 20.1MB/s]\n"
     ]
    }
   ],
   "source": [
    "!pip install -q gdown\n",
    "!gdown https://drive.google.com/uc?id=1LsNeROfnVQb2ksdtwZvxrZREdy_Z-jta"
   ]
  },
  {
   "cell_type": "code",
   "execution_count": null,
   "metadata": {
    "id": "zZV5mNhiKnku"
   },
   "outputs": [],
   "source": [
    "import pandas as pd"
   ]
  },
  {
   "cell_type": "code",
   "execution_count": null,
   "metadata": {
    "id": "i1WooP5LKZ6g"
   },
   "outputs": [],
   "source": [
    "data = pd.read_csv(\"winequality-red.csv\")"
   ]
  },
  {
   "cell_type": "code",
   "execution_count": null,
   "metadata": {
    "id": "TuQBzyPgLAnp"
   },
   "outputs": [],
   "source": [
    "data.head(5)"
   ]
  },
  {
   "cell_type": "markdown",
   "metadata": {
    "id": "Hlx-CEEa5WPH"
   },
   "source": [
    "Поделите вина на три категории по содержанию алкоголя. Добавьте колонку `\"category\"` со значениями `\"low alcohol\"`, `\"medium alcohol\"`, `\"high alcohol\"` для относительного объемного содержания алкоголя `x<=10`, `10 < x <= 12`, `x > 12` соответственно."
   ]
  },
  {
   "cell_type": "code",
   "execution_count": null,
   "metadata": {
    "id": "17caIXwfLUzj"
   },
   "outputs": [],
   "source": []
  },
  {
   "cell_type": "markdown",
   "metadata": {
    "id": "Z9IZ7tqX8zAx"
   },
   "source": [
    "Для каждой категории посчитайте среднее и медиану содержания остаточного сахара (`\"residual sugar\"`). Сделайте pandas.DataFrame с индексами в виде категории содержания алкоголя и колнками в виде среднего и медианы."
   ]
  },
  {
   "cell_type": "code",
   "execution_count": null,
   "metadata": {
    "id": "7L8CwrQVXfeK"
   },
   "outputs": [],
   "source": []
  },
  {
   "cell_type": "markdown",
   "metadata": {
    "id": "CtRFniPB9ifK"
   },
   "source": [
    "Что можно сказать о распределении сахара по этим категориям? О распределении остаточного сахара в целом?\n",
    "\n",
    "**Ответ:**"
   ]
  },
  {
   "cell_type": "markdown",
   "metadata": {
    "id": "dSXThd1y9pHs"
   },
   "source": [
    "Постройте `boxplot` для остаточного сахара по категориям, полученным ранее на основании доли алкоголя."
   ]
  },
  {
   "cell_type": "code",
   "execution_count": null,
   "metadata": {
    "id": "FVm-p0wKZ5OH"
   },
   "outputs": [],
   "source": [
    "palette = sns.color_palette(\"viridis\", n_colors=3)[::-1]\n",
    "#YOUR CODE GOES HERE"
   ]
  },
  {
   "cell_type": "markdown",
   "metadata": {
    "id": "vU_DAToR-URe"
   },
   "source": [
    "Как соотнясятся оценки из предыдущего пункта и график сверху? Что лучше использовать для оценивания содержания сахара: медиану или среднее? Почему?\n",
    "\n",
    "**Ответ:**"
   ]
  },
  {
   "cell_type": "markdown",
   "metadata": {
    "id": "AxfGV1Wqjpcr"
   },
   "source": [
    "Проанализируйте обе выборки на предмет выбросов. Сколько их? Какую оценку параметра сдвига лучше использовать (считая обе выборки нормальными)?"
   ]
  },
  {
   "cell_type": "markdown",
   "metadata": {
    "id": "1K9pVtC2j0jj"
   },
   "source": [
    "Ответ:"
   ]
  },
  {
   "cell_type": "markdown",
   "metadata": {
    "id": "bzmwux7dAaSp"
   },
   "source": [
    "Постройте один `scatterplot` (используйте `seaborn`) для очень хороших и очень плохих вин (`quality == 3`, `quality == 8`) в зависимости от содержания алкоголя (`alcohol` **не** из предыдущего пункта, а из колонки исходного датасета) и от количества лимонной кислоты (`citric acid`). Используйте `palette=[palette[0]]+[palette[-1]]`."
   ]
  },
  {
   "cell_type": "code",
   "execution_count": null,
   "metadata": {
    "id": "Hc2yRTDlLDaG"
   },
   "outputs": [],
   "source": [
    "#YOUR CODE GOES HERE"
   ]
  },
  {
   "cell_type": "markdown",
   "metadata": {
    "id": "pdsvN7uFEji3"
   },
   "source": [
    "Найдите ОМП для двух этих распределений в предположении, что обе выбоки из многомерного нормального распределения. Не мудрите, $\\mu$ и $\\Sigma$ получаются в одну команду через `numpy`. Далее получите плотности для сетки `X`, `Y`. Используйте `sps.multivariate_normal`."
   ]
  },
  {
   "cell_type": "code",
   "execution_count": null,
   "metadata": {
    "id": "oAQ7Bt6MkCEK"
   },
   "outputs": [],
   "source": []
  },
  {
   "cell_type": "markdown",
   "metadata": {
    "id": "F9mJXe4nj2_q"
   },
   "source": [
    "Предложите свои робастные (устойчивые к выбросам) оценки параметров $\\mu$, $\\sigma$, посчитайте их. Сравните результат с ОМП. Какой оценке больше доверия?"
   ]
  },
  {
   "cell_type": "code",
   "execution_count": null,
   "metadata": {
    "id": "l0VB4tpdBwWo"
   },
   "outputs": [],
   "source": [
    "#YOUR CODE GOES HERE"
   ]
  },
  {
   "cell_type": "markdown",
   "metadata": {
    "id": "ia9vF4bQTUFQ"
   },
   "source": [
    "Нарисуйте график плотности с линиями контура и нанесите точки выборки. Используйте зеленый цвет для вина плохого качества (`get_density_cmap(\"Greens\")` и `\"g\"` для точек) и синий для вина хорошего качества (`get_density_cmap(\"Blues\")` и `\"b\"`). Используйте функции `plt.pcolormesh`, `plt.clabel` и `plt.scatter`. Не забудьте про `plt.xlabel`, `plt.ylabel` и `plt.legend`."
   ]
  },
  {
   "cell_type": "code",
   "execution_count": null,
   "metadata": {
    "id": "jq-uLueoJibS"
   },
   "outputs": [],
   "source": [
    "from matplotlib.colors import ListedColormap\n",
    "\n",
    "def get_density_cmap(name):\n",
    "    cmap =  plt.get_cmap(name)\n",
    "    cmap_col = cmap(np.arange(cmap.N))\n",
    "    cmap_col[:, -1] = np.linspace(0, 1, cmap.N)**2\n",
    "    return ListedColormap(cmap_col)"
   ]
  },
  {
   "cell_type": "code",
   "execution_count": null,
   "metadata": {
    "id": "JFb55GhOHRQN"
   },
   "outputs": [],
   "source": [
    "#YOUR CODE GOES HERE"
   ]
  },
  {
   "cell_type": "markdown",
   "metadata": {
    "id": "zmFv-DKlPvHF"
   },
   "source": [
    "Что можно сказать о вине, которому сомелье дали наивысший балл по сравнению с вином, которому дали наименьший балл, основываясь на график выше?\n",
    "\n",
    "**Ответ:**"
   ]
  },
  {
   "cell_type": "markdown",
   "metadata": {
    "id": "I0U5IU0JjQCm"
   },
   "source": [
    "## Задача 3\n",
    "\n",
    "В случаях, когда ошибка в значении параметра может дорого обойтись, применяют доверительное оценивание. Вместо точечного значения параметра оценкой является отрезок, который с высокой вероятностью накрывает истинное значение параметра."
   ]
  },
  {
   "cell_type": "markdown",
   "metadata": {
    "id": "r0RpUPlCkfBy"
   },
   "source": [
    "Сгенерируйте выборку $X_1, ...,X_{100}$ из распределения $P_\\theta$.\n",
    "\n",
    "Для уровня доверия $\\alpha = 0.95$ для всех $n \\leq 100$\n",
    "изобразите на графиках в координатах $(n, \\theta)$\n",
    "* Доверительный интервал, построенный по оценке $\\widehat{\\theta}$ (который, помимо этого, нужно теоретически посчитать и написать)\n",
    "* График оценки $\\widehat{\\theta}$\n",
    "* Точки выборки\n",
    "\n",
    "Для отрисовки доверительного интервала используйте `plt.fill_between`. Не забывайте про параметр `alpha`.\n",
    "\n",
    "Для того, чтобы избежать дублирования кода, рекомендуем написать функцию `draw_confidence_interval`, изображающую на графике все необходимое.\n",
    "\n",
    "В каждом случае при помощи моделирования проверьте, как часто параметр действительно попадает в свой доверительный интервал (генерируйте выборку выборок, по которой стройте выборку доверительных интервалов)"
   ]
  },
  {
   "cell_type": "markdown",
   "metadata": {
    "id": "zIVLM29ikgcJ"
   },
   "source": [
    "### 1. Равномерное распределение, $\\theta = 10$, оценка $\\widehat{\\theta} = X_{(n)}$"
   ]
  },
  {
   "cell_type": "markdown",
   "metadata": {
    "id": "uq6pejAEkpa9"
   },
   "source": [
    "### 2. Распределение Коши, $\\theta = 10$, оценка — медиана"
   ]
  },
  {
   "cell_type": "markdown",
   "metadata": {
    "id": "yQktl56rk9UK"
   },
   "source": [
    "### 3. Распределение Пуассона, $\\theta = 10$, оценка $\\widehat{\\theta} = \\overline{X}$"
   ]
  },
  {
   "cell_type": "markdown",
   "metadata": {
    "id": "zLxw7m6klH-L"
   },
   "source": [
    "### 4. Гамма-распределение, $(\\theta, \\lambda) = (10, 3)$, $\\lambda$ известна"
   ]
  },
  {
   "cell_type": "markdown",
   "metadata": {
    "id": "mELP2pHYlOVR"
   },
   "source": [
    "Сделайте вывод о том, насколько точен доверительный интервал в каждом случае? Насколько он широк? А что от него ожидается: быть шире или быть уже? От каких свойств распределения зависит ширина?"
   ]
  },
  {
   "cell_type": "markdown",
   "metadata": {
    "id": "WdlGmvl-lcVq"
   },
   "source": [
    "Вывод:"
   ]
  },
  {
   "cell_type": "markdown",
   "metadata": {
    "id": "rXAQ_guUlf8V"
   },
   "source": [
    "## Задача 4.\n",
    "\n",
    "Точный доверительный интервал в условиях войны с чудовищами консульта строить нет ни времени, ни желания. Зато у нас есть целых два кандидата на его место: маги с востока предлагают использовать асимптотический доверительный интервал, как завещал их философ Айенсис, а маги с запада --- бутстрепный, как написано в их священных текстах. А какой лучше?"
   ]
  },
  {
   "cell_type": "markdown",
   "metadata": {
    "id": "ulQohfkZly1N"
   },
   "source": [
    "В этой задаче мы построим точный, асимптотический и бутстрепный доверительный интевалы для нормального распределения и сравним их."
   ]
  },
  {
   "cell_type": "markdown",
   "metadata": {
    "id": "1cMTshsRl6c6"
   },
   "source": [
    "Пусть $X_1, \\dots, X_n$ — выборка из нормального распределения со средним $a$ и дисперсией $\\sigma^2$, причем $\\sigma$ неизвестна. Выпишите формулы\n",
    "\n",
    "* точного доверительного итервала уровня доверия $\\alpha$ для $a$:\n",
    "\n",
    "* асимптотического доверительного итервала уровня доверия $\\alpha$ для $a$\n",
    "\n",
    "* бутстрепного доверительного итервала уровня доверия $\\alpha$ для $a$\n"
   ]
  },
  {
   "cell_type": "markdown",
   "metadata": {
    "id": "DJoTQBfWl-8A"
   },
   "source": [
    "Для $n=30, \\,a = 0$ постройте __на одном графике__ все три доверительных интервала, а также отметьте линией истинное значение $a$."
   ]
  },
  {
   "cell_type": "code",
   "execution_count": null,
   "metadata": {
    "id": "mUxRikaxmFQz"
   },
   "outputs": [],
   "source": []
  },
  {
   "cell_type": "markdown",
   "metadata": {
    "id": "MoaE66TDmFmp"
   },
   "source": [
    "Моделированием посчитайте вероятность того, что истинное значение параметра попадёт в интервал. В каком случае оно ближе к теоретическому (среди двух неточных интервалов)?"
   ]
  },
  {
   "cell_type": "code",
   "execution_count": null,
   "metadata": {
    "id": "dBsYszgomPpN"
   },
   "outputs": [],
   "source": []
  },
  {
   "cell_type": "markdown",
   "metadata": {
    "id": "3Zz28udEmRfe"
   },
   "source": [
    "Сделайте вывод о том, когда какой интервал использовать и как их использовать, чтобы получить хороший результат."
   ]
  },
  {
   "cell_type": "markdown",
   "metadata": {
    "id": "vKoWIwj9mXyi"
   },
   "source": [
    "Вывод:"
   ]
  },
  {
   "cell_type": "markdown",
   "metadata": {
    "id": "xQR_1_rmmn9C"
   },
   "source": [
    "## Задача 5"
   ]
  },
  {
   "cell_type": "markdown",
   "metadata": {
    "id": "-bNVQboImlQZ"
   },
   "source": [
    "И снова, реальные данные.\n",
    "\n",
    "В этой задаче мы проанализируем изменение индекса качества воздуха (air quality index, AQI) для двух мегаполисов Индии за последние годы. Данные взяты с Kaggle (https://www.kaggle.com/rohanrao/air-quality-data-in-india)"
   ]
  },
  {
   "cell_type": "code",
   "execution_count": null,
   "metadata": {
    "colab": {
     "base_uri": "https://localhost:8080/"
    },
    "id": "KujkoIeEmrjm",
    "outputId": "b5c5d55a-d16f-4cee-d6b4-cf9ecbac5e74"
   },
   "outputs": [
    {
     "name": "stdout",
     "output_type": "stream",
     "text": [
      "/usr/local/lib/python3.10/dist-packages/gdown/parse_url.py:35: UserWarning: You specified a Google Drive link that is not the correct link to download a file. You might want to try `--fuzzy` option or the following url: https://drive.google.com/uc?id=None\n",
      "  warnings.warn(\n",
      "Downloading...\n",
      "From: https://drive.google.com/file/d/1hvODMPkJPe0HLIGq8RgClN1_RSw2gfD-\n",
      "To: /content/1hvODMPkJPe0HLIGq8RgClN1_RSw2gfD-\n",
      "83.8kB [00:00, 41.6MB/s]\n"
     ]
    }
   ],
   "source": [
    "!gdown https://drive.google.com/file/d/1hvODMPkJPe0HLIGq8RgClN1_RSw2gfD-"
   ]
  },
  {
   "cell_type": "markdown",
   "metadata": {
    "id": "wsXBIaHTmwx2"
   },
   "source": [
    "Загрузите файл `city_day.csv`. Нам понадобятся столбцы `City`, `Date` и `AQI`. При этом учтите, что:\n",
    "* В дальнейшем мы будем работать с датами, поэтому используйте аргумент `parse_dates` чтобы корректо их распарсить\n",
    "* Данные содержат пропуски, которые нужно удалить\n",
    "\n",
    "Для удобства сохраните в отдельные поля `Month` и `Year` соответственно год и месяц, когда производились замеры\n",
    "\n",
    "Нас будут интересовать два города: Мумбаи (Mumbai) и Калькутта (Kolkata). Сохраните данные по этим двум городам для всех днней с 1 июля 2018 года включительно"
   ]
  },
  {
   "cell_type": "code",
   "execution_count": null,
   "metadata": {
    "id": "CShwSwR5mtlX"
   },
   "outputs": [],
   "source": []
  },
  {
   "cell_type": "markdown",
   "metadata": {
    "id": "1JXksM5km5IF"
   },
   "source": [
    "В предыдущих задачах мы строили доверительные интервалы в предположении, что выборка взята из параметрического семейства распределений. Но что делать в случае, когда подобное предположение сделать нельзя? Оказывается, в этом случае можно строить доверительный интервал с помощью бутстрепа.\n",
    "\n",
    "Пусть $X_1, \\dots, X_n$ — выборка, для которой мы хотим оценить некоторую величину $\\theta$. Построим $k$ бутстепных выборок, и получим по ним оценки $\\theta^*_1, \\dots, \\theta^*_k$. Отсортируем их, чтобы получить вариационный ряд $\\theta^*_{(1)}, \\dots, \\theta^*_{(k)}$. Тогда получим, что\n",
    "$$\n",
    "C^* = \\left(\\theta^*_{(\\lfloor k (1 + \\alpha) / 2 \\rfloor)},\n",
    "\\theta^*_{(\\lceil k (1 - \\alpha) / 2 \\rceil)} \\right)\n",
    "$$\n",
    "будет (приблизительным) доверительным интервалом для $\\theta$ уровня доверия $\\alpha$."
   ]
  },
  {
   "cell_type": "code",
   "execution_count": null,
   "metadata": {
    "id": "EmkR2fN9m5a3"
   },
   "outputs": [],
   "source": []
  },
  {
   "cell_type": "markdown",
   "metadata": {
    "id": "KLubqXTPm9Vs"
   },
   "source": [
    "Для каждого месяца с июля 2018 по июнь 2020 включительно постройте бутстрепный доверительный интервал для __среднего значения AQI__. В этом вам помогут следующие вспомогательные функции:"
   ]
  },
  {
   "cell_type": "code",
   "execution_count": null,
   "metadata": {
    "id": "NDyvz6zxm9o2"
   },
   "outputs": [],
   "source": []
  },
  {
   "cell_type": "markdown",
   "metadata": {
    "id": "01QB_bgtnACd"
   },
   "source": [
    "Постройте на одном графике доверительные интервалы для Мумбаи и Калькутты. Также отметьте точками на графике истинный средний AQI и соедините точки линиями. Проследите за тем, чтобы графики, относящиеся к одному городу, были одного цвета."
   ]
  },
  {
   "cell_type": "code",
   "execution_count": null,
   "metadata": {
    "id": "HYN9SruDnAQx"
   },
   "outputs": [],
   "source": []
  },
  {
   "cell_type": "markdown",
   "metadata": {
    "id": "YlqyVTRknCut"
   },
   "source": [
    "Посмотрите на получившийся график. Видны ли в нем какие-либо закономерности? С чем они могут быть связаны?"
   ]
  },
  {
   "cell_type": "markdown",
   "metadata": {
    "id": "tYlrb3kxnGEf"
   },
   "source": [
    "Теперь давайте сравним качество воздуха в апреле 2019 и апреле 2020 годов. Постройте __на одном графике__\n",
    "* доверительные интервалы для апреля 2019 и апреля 2020 для Мумбаи\n",
    "* истинные средние значения (с помощью `plt.hlines`)\n",
    "* точки выборки\n",
    "\n",
    "Проследите за тем, чтобы графики, относящиеся к одному городу, были одного цвета.\n",
    "\n",
    "То же самое сделайте для Калькутты."
   ]
  },
  {
   "cell_type": "code",
   "execution_count": null,
   "metadata": {
    "id": "71jAa5GfnIkK"
   },
   "outputs": [],
   "source": []
  },
  {
   "cell_type": "markdown",
   "metadata": {
    "id": "peAjtn_enKrK"
   },
   "source": [
    "Сделайте выводы. Что можно сказать про доверительные интервалы в каждом из случаев? Какие прикладные выводы о загрязнении воздуха можно сделать из Ваших результатов?"
   ]
  },
  {
   "cell_type": "code",
   "execution_count": null,
   "metadata": {
    "id": "s2kVKhANnQHa"
   },
   "outputs": [],
   "source": []
  }
 ],
 "metadata": {
  "colab": {
   "provenance": []
  },
  "kernelspec": {
   "display_name": "Python 3",
   "name": "python3"
  }
 },
 "nbformat": 4,
 "nbformat_minor": 0
}
